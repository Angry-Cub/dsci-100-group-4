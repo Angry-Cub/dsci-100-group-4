{
 "cells": [
  {
   "cell_type": "code",
   "execution_count": null,
   "id": "be1ca3ac-38bc-4dcb-9df3-04a6e9fb9335",
   "metadata": {},
   "outputs": [],
   "source": [
    "import altair as alt\n",
    "import pandas as pd\n",
    "alt.data_transformers.disable_max_rows()\n"
   ]
  },
  {
   "cell_type": "code",
   "execution_count": null,
   "id": "04216d5a-b370-48bb-ae4d-aceed0434389",
   "metadata": {},
   "outputs": [],
   "source": [
    "diabetes = pd.read_csv(\"data/diabetes_tidied_train.csv\")\n",
    "diabetes = diabetes[diabetes[\"gender\"] != \"Other\"]\n",
    "diabetes"
   ]
  },
  {
   "cell_type": "code",
   "execution_count": null,
   "id": "7199a28b-397b-467e-928b-d66997a1072d",
   "metadata": {},
   "outputs": [],
   "source": [
    "chart_bmi = alt.Chart(diabetes, title=\"Distribution of BMI\").mark_bar().encode(\n",
    "    x = alt.X(\"BMI\", bin=alt.Bin(maxbins = 20), scale=alt.Scale(domain=[10, 80])),\n",
    "    y = alt.Y(\"count()\", title = \"Count\"),\n",
    "    color = alt.Color(\"diabetes\", \n",
    "                    scale=alt.Scale(domain=[0, 1], range=[\"blue\", \"red\"]),\n",
    "                    legend=alt.Legend(values=[0, 1], title=\"Diabetes (0=no, 1=yes)\")\n",
    "                     )\n",
    ") "
   ]
  },
  {
   "cell_type": "code",
   "execution_count": null,
   "id": "4a017976-afba-4624-91ac-477b003e15a9",
   "metadata": {},
   "outputs": [],
   "source": [
    "chart_bmi"
   ]
  },
  {
   "cell_type": "code",
   "execution_count": null,
   "id": "30cda7b3-29b7-4e7c-994e-13e49bc7cba3",
   "metadata": {},
   "outputs": [],
   "source": [
    "chart_age = alt.Chart(diabetes, title=\"Distribution of Age\").mark_bar().encode(\n",
    "    x=alt.X(\"Age\", bin=alt.Bin(maxbins=30), title=\"Age (years, binned)\"),\n",
    "    y=alt.Y(\"count()\", title=\"Count\"),\n",
    "    color=alt.Color(\"diabetes:N\", title=\"Diabetes Status\", \n",
    "                    scale=alt.Scale(domain=[0, 1], range=[\"blue\", \"red\"]),\n",
    "                    legend=alt.Legend(values=[0, 1], title=\"Diabetes (0=no, 1=yes)\"))\n",
    ")\n",
    "\n",
    "chart_age"
   ]
  },
  {
   "cell_type": "code",
   "execution_count": null,
   "id": "ef2a1010-97be-4c12-888a-546c13300157",
   "metadata": {},
   "outputs": [],
   "source": [
    "chart_glucose = alt.Chart(diabetes, title=\"Distribution of Blood Glucose Levels\").mark_bar().encode(\n",
    "    x=alt.X(\"blood_glucose_levels\", bin=alt.Bin(maxbins=20), title=\"Blood Glucose Level (random testing, mg/dl)\"),\n",
    "    y=alt.Y(\"count()\", title=\"Count\"),\n",
    "    color=alt.Color(\"diabetes:N\", title=\"Diabetes Status\", \n",
    "                    scale=alt.Scale(domain=[0, 1], range=[\"blue\", \"red\"]),\n",
    "                    legend=alt.Legend(values=[0, 1], title=\"Diabetes (0=no, 1=yes)\"))\n",
    ")\n"
   ]
  },
  {
   "cell_type": "code",
   "execution_count": null,
   "id": "a8faeae4-6956-4903-ba0e-4f80d610da20",
   "metadata": {},
   "outputs": [],
   "source": [
    "chart_glucose"
   ]
  },
  {
   "cell_type": "code",
   "execution_count": null,
   "id": "062e1d3e-c54d-4cf0-bfda-48f1ac15e078",
   "metadata": {},
   "outputs": [],
   "source": [
    "chart_gender = alt.Chart(diabetes, title=\"Gender Distribution\").mark_bar().encode(\n",
    "    x=alt.X(\"gender\", title=\"Gender\"),\n",
    "    y=alt.Y(\"count()\", title=\"Count\"),\n",
    "    color=alt.Color(\"diabetes:N\", title=\"Diabetes Status\", \n",
    "                    scale=alt.Scale(domain=[0, 1], range=[\"blue\", \"red\"]),\n",
    "                    legend=alt.Legend(values=[0, 1], title=\"Diabetes (0=no, 1=yes)\"))\n",
    ")\n",
    "\n",
    "chart_gender"
   ]
  },
  {
   "cell_type": "code",
   "execution_count": null,
   "id": "e84c5f52-377a-40ff-be98-f1568f219868",
   "metadata": {},
   "outputs": [],
   "source": [
    "chart_diabetes = alt.Chart(diabetes, title=\"Diabetes Diagnosis Distribution\").mark_bar().encode(\n",
    "    x=alt.X(\"diabetes:O\", title=\"Diabetes (0 = no, 1 = yes)\"),  # The \":O\" denotes that diabetes is treated as an ordinal variable\n",
    "    y=alt.Y(\"count()\", title=\"Count\")\n",
    ")\n"
   ]
  },
  {
   "cell_type": "code",
   "execution_count": null,
   "id": "d49b83b3-3420-4aa8-bcca-48b042faf08c",
   "metadata": {},
   "outputs": [],
   "source": [
    "chart_diabetes"
   ]
  },
  {
   "cell_type": "code",
   "execution_count": null,
   "id": "366dfa36-4b35-4d71-93b7-99964c8285d2",
   "metadata": {},
   "outputs": [],
   "source": [
    "high_glucose = diabetes[diabetes['blood_glucose_levels'] > 220]\n",
    "diabetes_status_counts = high_glucose['diabetes'].value_counts()\n"
   ]
  },
  {
   "cell_type": "code",
   "execution_count": null,
   "id": "85b3085d-5cd6-4c15-b314-d7d9570862fa",
   "metadata": {},
   "outputs": [],
   "source": [
    "high_glucose"
   ]
  },
  {
   "cell_type": "code",
   "execution_count": null,
   "id": "2ad6f016-03c3-4b36-b487-706b5f17f89a",
   "metadata": {},
   "outputs": [],
   "source": [
    "diabetes_status_counts"
   ]
  },
  {
   "cell_type": "code",
   "execution_count": null,
   "id": "42e8da73-dca1-4a4f-aea4-4763539d14dc",
   "metadata": {},
   "outputs": [],
   "source": [
    "# Count of diabetic males\n",
    "diabetic_males_count = diabetes[(diabetes['gender'] == 'Male') & (diabetes['diabetes'] == 1)].shape[0]\n",
    "\n",
    "# Count of diabetic females\n",
    "diabetic_females_count = diabetes[(diabetes['gender'] == 'Female') & (diabetes['diabetes'] == 1)].shape[0]\n",
    "\n",
    "diabetic_males_count, diabetic_females_count\n"
   ]
  },
  {
   "cell_type": "code",
   "execution_count": null,
   "id": "fdc923a5-a721-4d23-b5ba-8640b86d2c76",
   "metadata": {},
   "outputs": [],
   "source": [
    "combined_chart = alt.hconcat(chart_bmi, chart_age, chart_gender, chart_glucose, chart_diabetes).resolve_scale(color='independent')\n"
   ]
  },
  {
   "cell_type": "code",
   "execution_count": null,
   "id": "bf4e0a47-53ae-481c-a4c3-e106849c0385",
   "metadata": {},
   "outputs": [],
   "source": [
    "combined_chart"
   ]
  },
  {
   "cell_type": "code",
   "execution_count": null,
   "id": "b66cde97-8379-44b6-b2b9-e7c0f6a0138f",
   "metadata": {},
   "outputs": [],
   "source": []
  }
 ],
 "metadata": {
  "kernelspec": {
   "display_name": "Python 3 (ipykernel)",
   "language": "python",
   "name": "python3"
  },
  "language_info": {
   "codemirror_mode": {
    "name": "ipython",
    "version": 3
   },
   "file_extension": ".py",
   "mimetype": "text/x-python",
   "name": "python",
   "nbconvert_exporter": "python",
   "pygments_lexer": "ipython3",
   "version": "3.11.5"
  }
 },
 "nbformat": 4,
 "nbformat_minor": 5
}
