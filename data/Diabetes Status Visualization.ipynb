{
 "cells": [
  {
   "cell_type": "code",
   "execution_count": 1,
   "id": "be1ca3ac-38bc-4dcb-9df3-04a6e9fb9335",
   "metadata": {},
   "outputs": [
    {
     "data": {
      "text/plain": [
       "DataTransformerRegistry.enable('default')"
      ]
     },
     "execution_count": 1,
     "metadata": {},
     "output_type": "execute_result"
    }
   ],
   "source": [
    "import altair as alt\n",
    "import pandas as pd\n",
    "alt.data_transformers.disable_max_rows()\n"
   ]
  },
  {
   "cell_type": "code",
   "execution_count": 2,
   "id": "04216d5a-b370-48bb-ae4d-aceed0434389",
   "metadata": {},
   "outputs": [
    {
     "ename": "FileNotFoundError",
     "evalue": "[Errno 2] No such file or directory: 'data/diabetes_tidied_train.csv'",
     "output_type": "error",
     "traceback": [
      "\u001b[0;31m---------------------------------------------------------------------------\u001b[0m",
      "\u001b[0;31mFileNotFoundError\u001b[0m                         Traceback (most recent call last)",
      "Cell \u001b[0;32mIn[2], line 1\u001b[0m\n\u001b[0;32m----> 1\u001b[0m diabetes \u001b[39m=\u001b[39m pd\u001b[39m.\u001b[39;49mread_csv(\u001b[39m\"\u001b[39;49m\u001b[39mdata/diabetes_tidied_train.csv\u001b[39;49m\u001b[39m\"\u001b[39;49m)\n\u001b[1;32m      2\u001b[0m diabetes \u001b[39m=\u001b[39m diabetes[diabetes[\u001b[39m\"\u001b[39m\u001b[39mgender\u001b[39m\u001b[39m\"\u001b[39m] \u001b[39m!=\u001b[39m \u001b[39m\"\u001b[39m\u001b[39mOther\u001b[39m\u001b[39m\"\u001b[39m]\n\u001b[1;32m      3\u001b[0m diabetes\n",
      "File \u001b[0;32m/Library/Frameworks/Python.framework/Versions/3.11/lib/python3.11/site-packages/pandas/io/parsers/readers.py:912\u001b[0m, in \u001b[0;36mread_csv\u001b[0;34m(filepath_or_buffer, sep, delimiter, header, names, index_col, usecols, dtype, engine, converters, true_values, false_values, skipinitialspace, skiprows, skipfooter, nrows, na_values, keep_default_na, na_filter, verbose, skip_blank_lines, parse_dates, infer_datetime_format, keep_date_col, date_parser, date_format, dayfirst, cache_dates, iterator, chunksize, compression, thousands, decimal, lineterminator, quotechar, quoting, doublequote, escapechar, comment, encoding, encoding_errors, dialect, on_bad_lines, delim_whitespace, low_memory, memory_map, float_precision, storage_options, dtype_backend)\u001b[0m\n\u001b[1;32m    899\u001b[0m kwds_defaults \u001b[39m=\u001b[39m _refine_defaults_read(\n\u001b[1;32m    900\u001b[0m     dialect,\n\u001b[1;32m    901\u001b[0m     delimiter,\n\u001b[0;32m   (...)\u001b[0m\n\u001b[1;32m    908\u001b[0m     dtype_backend\u001b[39m=\u001b[39mdtype_backend,\n\u001b[1;32m    909\u001b[0m )\n\u001b[1;32m    910\u001b[0m kwds\u001b[39m.\u001b[39mupdate(kwds_defaults)\n\u001b[0;32m--> 912\u001b[0m \u001b[39mreturn\u001b[39;00m _read(filepath_or_buffer, kwds)\n",
      "File \u001b[0;32m/Library/Frameworks/Python.framework/Versions/3.11/lib/python3.11/site-packages/pandas/io/parsers/readers.py:577\u001b[0m, in \u001b[0;36m_read\u001b[0;34m(filepath_or_buffer, kwds)\u001b[0m\n\u001b[1;32m    574\u001b[0m _validate_names(kwds\u001b[39m.\u001b[39mget(\u001b[39m\"\u001b[39m\u001b[39mnames\u001b[39m\u001b[39m\"\u001b[39m, \u001b[39mNone\u001b[39;00m))\n\u001b[1;32m    576\u001b[0m \u001b[39m# Create the parser.\u001b[39;00m\n\u001b[0;32m--> 577\u001b[0m parser \u001b[39m=\u001b[39m TextFileReader(filepath_or_buffer, \u001b[39m*\u001b[39;49m\u001b[39m*\u001b[39;49mkwds)\n\u001b[1;32m    579\u001b[0m \u001b[39mif\u001b[39;00m chunksize \u001b[39mor\u001b[39;00m iterator:\n\u001b[1;32m    580\u001b[0m     \u001b[39mreturn\u001b[39;00m parser\n",
      "File \u001b[0;32m/Library/Frameworks/Python.framework/Versions/3.11/lib/python3.11/site-packages/pandas/io/parsers/readers.py:1407\u001b[0m, in \u001b[0;36mTextFileReader.__init__\u001b[0;34m(self, f, engine, **kwds)\u001b[0m\n\u001b[1;32m   1404\u001b[0m     \u001b[39mself\u001b[39m\u001b[39m.\u001b[39moptions[\u001b[39m\"\u001b[39m\u001b[39mhas_index_names\u001b[39m\u001b[39m\"\u001b[39m] \u001b[39m=\u001b[39m kwds[\u001b[39m\"\u001b[39m\u001b[39mhas_index_names\u001b[39m\u001b[39m\"\u001b[39m]\n\u001b[1;32m   1406\u001b[0m \u001b[39mself\u001b[39m\u001b[39m.\u001b[39mhandles: IOHandles \u001b[39m|\u001b[39m \u001b[39mNone\u001b[39;00m \u001b[39m=\u001b[39m \u001b[39mNone\u001b[39;00m\n\u001b[0;32m-> 1407\u001b[0m \u001b[39mself\u001b[39m\u001b[39m.\u001b[39m_engine \u001b[39m=\u001b[39m \u001b[39mself\u001b[39;49m\u001b[39m.\u001b[39;49m_make_engine(f, \u001b[39mself\u001b[39;49m\u001b[39m.\u001b[39;49mengine)\n",
      "File \u001b[0;32m/Library/Frameworks/Python.framework/Versions/3.11/lib/python3.11/site-packages/pandas/io/parsers/readers.py:1661\u001b[0m, in \u001b[0;36mTextFileReader._make_engine\u001b[0;34m(self, f, engine)\u001b[0m\n\u001b[1;32m   1659\u001b[0m     \u001b[39mif\u001b[39;00m \u001b[39m\"\u001b[39m\u001b[39mb\u001b[39m\u001b[39m\"\u001b[39m \u001b[39mnot\u001b[39;00m \u001b[39min\u001b[39;00m mode:\n\u001b[1;32m   1660\u001b[0m         mode \u001b[39m+\u001b[39m\u001b[39m=\u001b[39m \u001b[39m\"\u001b[39m\u001b[39mb\u001b[39m\u001b[39m\"\u001b[39m\n\u001b[0;32m-> 1661\u001b[0m \u001b[39mself\u001b[39m\u001b[39m.\u001b[39mhandles \u001b[39m=\u001b[39m get_handle(\n\u001b[1;32m   1662\u001b[0m     f,\n\u001b[1;32m   1663\u001b[0m     mode,\n\u001b[1;32m   1664\u001b[0m     encoding\u001b[39m=\u001b[39;49m\u001b[39mself\u001b[39;49m\u001b[39m.\u001b[39;49moptions\u001b[39m.\u001b[39;49mget(\u001b[39m\"\u001b[39;49m\u001b[39mencoding\u001b[39;49m\u001b[39m\"\u001b[39;49m, \u001b[39mNone\u001b[39;49;00m),\n\u001b[1;32m   1665\u001b[0m     compression\u001b[39m=\u001b[39;49m\u001b[39mself\u001b[39;49m\u001b[39m.\u001b[39;49moptions\u001b[39m.\u001b[39;49mget(\u001b[39m\"\u001b[39;49m\u001b[39mcompression\u001b[39;49m\u001b[39m\"\u001b[39;49m, \u001b[39mNone\u001b[39;49;00m),\n\u001b[1;32m   1666\u001b[0m     memory_map\u001b[39m=\u001b[39;49m\u001b[39mself\u001b[39;49m\u001b[39m.\u001b[39;49moptions\u001b[39m.\u001b[39;49mget(\u001b[39m\"\u001b[39;49m\u001b[39mmemory_map\u001b[39;49m\u001b[39m\"\u001b[39;49m, \u001b[39mFalse\u001b[39;49;00m),\n\u001b[1;32m   1667\u001b[0m     is_text\u001b[39m=\u001b[39;49mis_text,\n\u001b[1;32m   1668\u001b[0m     errors\u001b[39m=\u001b[39;49m\u001b[39mself\u001b[39;49m\u001b[39m.\u001b[39;49moptions\u001b[39m.\u001b[39;49mget(\u001b[39m\"\u001b[39;49m\u001b[39mencoding_errors\u001b[39;49m\u001b[39m\"\u001b[39;49m, \u001b[39m\"\u001b[39;49m\u001b[39mstrict\u001b[39;49m\u001b[39m\"\u001b[39;49m),\n\u001b[1;32m   1669\u001b[0m     storage_options\u001b[39m=\u001b[39;49m\u001b[39mself\u001b[39;49m\u001b[39m.\u001b[39;49moptions\u001b[39m.\u001b[39;49mget(\u001b[39m\"\u001b[39;49m\u001b[39mstorage_options\u001b[39;49m\u001b[39m\"\u001b[39;49m, \u001b[39mNone\u001b[39;49;00m),\n\u001b[1;32m   1670\u001b[0m )\n\u001b[1;32m   1671\u001b[0m \u001b[39massert\u001b[39;00m \u001b[39mself\u001b[39m\u001b[39m.\u001b[39mhandles \u001b[39mis\u001b[39;00m \u001b[39mnot\u001b[39;00m \u001b[39mNone\u001b[39;00m\n\u001b[1;32m   1672\u001b[0m f \u001b[39m=\u001b[39m \u001b[39mself\u001b[39m\u001b[39m.\u001b[39mhandles\u001b[39m.\u001b[39mhandle\n",
      "File \u001b[0;32m/Library/Frameworks/Python.framework/Versions/3.11/lib/python3.11/site-packages/pandas/io/common.py:859\u001b[0m, in \u001b[0;36mget_handle\u001b[0;34m(path_or_buf, mode, encoding, compression, memory_map, is_text, errors, storage_options)\u001b[0m\n\u001b[1;32m    854\u001b[0m \u001b[39melif\u001b[39;00m \u001b[39misinstance\u001b[39m(handle, \u001b[39mstr\u001b[39m):\n\u001b[1;32m    855\u001b[0m     \u001b[39m# Check whether the filename is to be opened in binary mode.\u001b[39;00m\n\u001b[1;32m    856\u001b[0m     \u001b[39m# Binary mode does not support 'encoding' and 'newline'.\u001b[39;00m\n\u001b[1;32m    857\u001b[0m     \u001b[39mif\u001b[39;00m ioargs\u001b[39m.\u001b[39mencoding \u001b[39mand\u001b[39;00m \u001b[39m\"\u001b[39m\u001b[39mb\u001b[39m\u001b[39m\"\u001b[39m \u001b[39mnot\u001b[39;00m \u001b[39min\u001b[39;00m ioargs\u001b[39m.\u001b[39mmode:\n\u001b[1;32m    858\u001b[0m         \u001b[39m# Encoding\u001b[39;00m\n\u001b[0;32m--> 859\u001b[0m         handle \u001b[39m=\u001b[39m \u001b[39mopen\u001b[39;49m(\n\u001b[1;32m    860\u001b[0m             handle,\n\u001b[1;32m    861\u001b[0m             ioargs\u001b[39m.\u001b[39;49mmode,\n\u001b[1;32m    862\u001b[0m             encoding\u001b[39m=\u001b[39;49mioargs\u001b[39m.\u001b[39;49mencoding,\n\u001b[1;32m    863\u001b[0m             errors\u001b[39m=\u001b[39;49merrors,\n\u001b[1;32m    864\u001b[0m             newline\u001b[39m=\u001b[39;49m\u001b[39m\"\u001b[39;49m\u001b[39m\"\u001b[39;49m,\n\u001b[1;32m    865\u001b[0m         )\n\u001b[1;32m    866\u001b[0m     \u001b[39melse\u001b[39;00m:\n\u001b[1;32m    867\u001b[0m         \u001b[39m# Binary mode\u001b[39;00m\n\u001b[1;32m    868\u001b[0m         handle \u001b[39m=\u001b[39m \u001b[39mopen\u001b[39m(handle, ioargs\u001b[39m.\u001b[39mmode)\n",
      "\u001b[0;31mFileNotFoundError\u001b[0m: [Errno 2] No such file or directory: 'data/diabetes_tidied_train.csv'"
     ]
    }
   ],
   "source": [
    "diabetes = pd.read_csv(\"data/diabetes_tidied_train.csv\")\n",
    "diabetes = diabetes[diabetes[\"gender\"] != \"Other\"]\n",
    "diabetes"
   ]
  },
  {
   "cell_type": "code",
   "execution_count": null,
   "id": "7199a28b-397b-467e-928b-d66997a1072d",
   "metadata": {},
   "outputs": [],
   "source": [
    "chart_bmi = alt.Chart(diabetes, title=\"Distribution of BMI\").mark_bar().encode(\n",
    "    x = alt.X(\"BMI\", bin=alt.Bin(maxbins = 20), scale=alt.Scale(domain=[10, 80])),\n",
    "    y = alt.Y(\"count()\", title = \"Count\"),\n",
    "    color = alt.Color(\"diabetes\", \n",
    "                    scale=alt.Scale(domain=[0, 1], range=[\"blue\", \"red\"]),\n",
    "                    legend=alt.Legend(values=[0, 1], title=\"Diabetes (0=no, 1=yes)\")\n",
    "                     )\n",
    ")"
   ]
  },
  {
   "cell_type": "code",
   "execution_count": null,
   "id": "4a017976-afba-4624-91ac-477b003e15a9",
   "metadata": {},
   "outputs": [],
   "source": [
    "chart_bmi"
   ]
  },
  {
   "cell_type": "code",
   "execution_count": null,
   "id": "30cda7b3-29b7-4e7c-994e-13e49bc7cba3",
   "metadata": {},
   "outputs": [],
   "source": [
    "chart_age = alt.Chart(diabetes, title=\"Distribution of Age\").mark_bar().encode(\n",
    "    x=alt.X(\"Age\", bin=alt.Bin(maxbins=30), title=\"Age (years, binned)\"),\n",
    "    y=alt.Y(\"count()\", title=\"Count\"),\n",
    "    color=alt.Color(\"diabetes:N\", title=\"Diabetes Status\", \n",
    "                    scale=alt.Scale(domain=[0, 1], range=[\"blue\", \"red\"]),\n",
    "                    legend=alt.Legend(values=[0, 1], title=\"Diabetes (0=no, 1=yes)\"))\n",
    ")\n",
    "\n",
    "chart_age"
   ]
  },
  {
   "cell_type": "code",
   "execution_count": null,
   "id": "ef2a1010-97be-4c12-888a-546c13300157",
   "metadata": {},
   "outputs": [],
   "source": [
    "chart_glucose = alt.Chart(diabetes, title=\"Distribution of Blood Glucose Levels\").mark_bar().encode(\n",
    "    x=alt.X(\"blood_glucose_levels\", bin=alt.Bin(maxbins=20), title=\"Blood Glucose Level (random testing, mg/dl)\"),\n",
    "    y=alt.Y(\"count()\", title=\"Count\"),\n",
    "    color=alt.Color(\"diabetes:N\", title=\"Diabetes Status\", \n",
    "                    scale=alt.Scale(domain=[0, 1], range=[\"blue\", \"red\"]),\n",
    "                    legend=alt.Legend(values=[0, 1], title=\"Diabetes (0=no, 1=yes)\"))\n",
    ")"
   ]
  },
  {
   "cell_type": "code",
   "execution_count": null,
   "id": "a8faeae4-6956-4903-ba0e-4f80d610da20",
   "metadata": {},
   "outputs": [],
   "source": [
    "chart_glucose"
   ]
  },
  {
   "cell_type": "code",
   "execution_count": null,
   "id": "062e1d3e-c54d-4cf0-bfda-48f1ac15e078",
   "metadata": {},
   "outputs": [],
   "source": [
    "chart_gender = alt.Chart(diabetes, title=\"Gender Distribution\").mark_bar().encode(\n",
    "    x=alt.X(\"gender\", title=\"Gender\"),\n",
    "    y=alt.Y(\"count()\", title=\"Count\"),\n",
    "    color=alt.Color(\"diabetes:N\", title=\"Diabetes Status\", \n",
    "                    scale=alt.Scale(domain=[0, 1], range=[\"blue\", \"red\"]),\n",
    "                    legend=alt.Legend(values=[0, 1], title=\"Diabetes (0=no, 1=yes)\"))\n",
    ")\n",
    "\n",
    "chart_gender"
   ]
  },
  {
   "cell_type": "code",
   "execution_count": null,
   "id": "e84c5f52-377a-40ff-be98-f1568f219868",
   "metadata": {},
   "outputs": [],
   "source": [
    "chart_diabetes = alt.Chart(diabetes, title=\"Diabetes Diagnosis Distribution\").mark_bar().encode(\n",
    "    x=alt.X(\"diabetes:O\", title=\"Diabetes (0 = no, 1 = yes)\"),  # The \":O\" denotes that diabetes is treated as an ordinal variable\n",
    "    y=alt.Y(\"count()\", title=\"Count\")\n",
    ")"
   ]
  },
  {
   "cell_type": "code",
   "execution_count": null,
   "id": "d49b83b3-3420-4aa8-bcca-48b042faf08c",
   "metadata": {},
   "outputs": [],
   "source": [
    "chart_diabetes"
   ]
  },
  {
   "cell_type": "code",
   "execution_count": null,
   "id": "366dfa36-4b35-4d71-93b7-99964c8285d2",
   "metadata": {},
   "outputs": [],
   "source": [
    "high_glucose = diabetes[diabetes['blood_glucose_levels'] > 220]\n",
    "diabetes_status_counts = high_glucose['diabetes'].value_counts()"
   ]
  },
  {
   "cell_type": "code",
   "execution_count": null,
   "id": "85b3085d-5cd6-4c15-b314-d7d9570862fa",
   "metadata": {},
   "outputs": [],
   "source": [
    "high_glucose"
   ]
  },
  {
   "cell_type": "code",
   "execution_count": null,
   "id": "2ad6f016-03c3-4b36-b487-706b5f17f89a",
   "metadata": {},
   "outputs": [],
   "source": [
    "diabetes_status_counts"
   ]
  },
  {
   "cell_type": "code",
   "execution_count": null,
   "id": "42e8da73-dca1-4a4f-aea4-4763539d14dc",
   "metadata": {},
   "outputs": [],
   "source": [
    "# Count of diabetic males\n",
    "diabetic_males_count = diabetes[(diabetes['gender'] == 'Male') & (diabetes['diabetes'] == 1)].shape[0]\n",
    "\n",
    "# Count of diabetic females\n",
    "diabetic_females_count = diabetes[(diabetes['gender'] == 'Female') & (diabetes['diabetes'] == 1)].shape[0]\n",
    "\n",
    "diabetic_males_count, diabetic_females_count\n"
   ]
  },
  {
   "cell_type": "code",
   "execution_count": null,
   "id": "fdc923a5-a721-4d23-b5ba-8640b86d2c76",
   "metadata": {},
   "outputs": [],
   "source": [
    "combined_chart = alt.hconcat(chart_bmi, chart_age, chart_gender, chart_glucose, chart_diabetes).resolve_scale(color='independent')\n"
   ]
  },
  {
   "cell_type": "code",
   "execution_count": null,
   "id": "bf4e0a47-53ae-481c-a4c3-e106849c0385",
   "metadata": {},
   "outputs": [],
   "source": [
    "combined_chart"
   ]
  },
  {
   "cell_type": "code",
   "execution_count": null,
   "id": "b66cde97-8379-44b6-b2b9-e7c0f6a0138f",
   "metadata": {},
   "outputs": [],
   "source": []
  }
 ],
 "metadata": {
  "kernelspec": {
   "display_name": "Python 3",
   "language": "python",
   "name": "python3"
  },
  "language_info": {
   "codemirror_mode": {
    "name": "ipython",
    "version": 3
   },
   "file_extension": ".py",
   "mimetype": "text/x-python",
   "name": "python",
   "nbconvert_exporter": "python",
   "pygments_lexer": "ipython3",
   "version": "3.11.4"
  },
  "vscode": {
   "interpreter": {
    "hash": "aee8b7b246df8f9039afb4144a1f6fd8d2ca17a180786b69acc140d282b71a49"
   }
  }
 },
 "nbformat": 4,
 "nbformat_minor": 5
}
